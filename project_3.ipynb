{
 "cells": [
  {
   "cell_type": "code",
   "execution_count": 1,
   "id": "ca39383a",
   "metadata": {},
   "outputs": [],
   "source": [
    "import pandas as pd\n",
    "import numpy as np\n",
    "import os\n",
    "import seaborn as sns\n",
    "import matplotlib.pyplot as plt\n",
    "from transformers import AutoTokenizer\n",
    "import torch.nn as nn\n"
   ]
  },
  {
   "cell_type": "code",
   "execution_count": 2,
   "id": "cad925e6",
   "metadata": {},
   "outputs": [],
   "source": [
    "#reading the csv file\n",
    "df=pd.read_csv(r\"c:\\Users\\kwaky\\Downloads\\patient_records_1000.csv\")"
   ]
  },
  {
   "cell_type": "code",
   "execution_count": 3,
   "id": "e3c729a5",
   "metadata": {},
   "outputs": [
    {
     "data": {
      "text/html": [
       "<div>\n",
       "<style scoped>\n",
       "    .dataframe tbody tr th:only-of-type {\n",
       "        vertical-align: middle;\n",
       "    }\n",
       "\n",
       "    .dataframe tbody tr th {\n",
       "        vertical-align: top;\n",
       "    }\n",
       "\n",
       "    .dataframe thead th {\n",
       "        text-align: right;\n",
       "    }\n",
       "</style>\n",
       "<table border=\"1\" class=\"dataframe\">\n",
       "  <thead>\n",
       "    <tr style=\"text-align: right;\">\n",
       "      <th></th>\n",
       "      <th>text</th>\n",
       "      <th>label</th>\n",
       "      <th>age</th>\n",
       "      <th>gender</th>\n",
       "      <th>temperature</th>\n",
       "      <th>blood_pressure</th>\n",
       "      <th>heart_rate</th>\n",
       "    </tr>\n",
       "  </thead>\n",
       "  <tbody>\n",
       "    <tr>\n",
       "      <th>0</th>\n",
       "      <td>Patient has swelling, fatigue</td>\n",
       "      <td>arthritis</td>\n",
       "      <td>79.0</td>\n",
       "      <td>Male</td>\n",
       "      <td>98.8</td>\n",
       "      <td>150/77</td>\n",
       "      <td>86.0</td>\n",
       "    </tr>\n",
       "    <tr>\n",
       "      <th>1</th>\n",
       "      <td>Patient has fatigue, dizziness, chest pain, ir...</td>\n",
       "      <td>heart_disease</td>\n",
       "      <td>50.0</td>\n",
       "      <td>Female</td>\n",
       "      <td>102.9</td>\n",
       "      <td>125/113</td>\n",
       "      <td>90.0</td>\n",
       "    </tr>\n",
       "    <tr>\n",
       "      <th>2</th>\n",
       "      <td>Patient has shortness of breath, chest pain, i...</td>\n",
       "      <td>NaN</td>\n",
       "      <td>27.0</td>\n",
       "      <td>NaN</td>\n",
       "      <td>101.5</td>\n",
       "      <td>97/97</td>\n",
       "      <td>95.0</td>\n",
       "    </tr>\n",
       "    <tr>\n",
       "      <th>3</th>\n",
       "      <td>Patient has dry cough, loss of taste, tiredness</td>\n",
       "      <td>covid-19</td>\n",
       "      <td>71.0</td>\n",
       "      <td>Female</td>\n",
       "      <td>100.8</td>\n",
       "      <td>152/95</td>\n",
       "      <td>NaN</td>\n",
       "    </tr>\n",
       "    <tr>\n",
       "      <th>4</th>\n",
       "      <td>Patient has fatigue, runny nose, cough</td>\n",
       "      <td>flu</td>\n",
       "      <td>79.0</td>\n",
       "      <td>Other</td>\n",
       "      <td>102.0</td>\n",
       "      <td>138/89</td>\n",
       "      <td>91.0</td>\n",
       "    </tr>\n",
       "  </tbody>\n",
       "</table>\n",
       "</div>"
      ],
      "text/plain": [
       "                                                text          label   age  \\\n",
       "0                      Patient has swelling, fatigue      arthritis  79.0   \n",
       "1  Patient has fatigue, dizziness, chest pain, ir...  heart_disease  50.0   \n",
       "2  Patient has shortness of breath, chest pain, i...            NaN  27.0   \n",
       "3    Patient has dry cough, loss of taste, tiredness       covid-19  71.0   \n",
       "4             Patient has fatigue, runny nose, cough            flu  79.0   \n",
       "\n",
       "   gender  temperature blood_pressure  heart_rate  \n",
       "0    Male         98.8         150/77        86.0  \n",
       "1  Female        102.9        125/113        90.0  \n",
       "2     NaN        101.5          97/97        95.0  \n",
       "3  Female        100.8         152/95         NaN  \n",
       "4   Other        102.0         138/89        91.0  "
      ]
     },
     "execution_count": 3,
     "metadata": {},
     "output_type": "execute_result"
    }
   ],
   "source": [
    "df.head()\n"
   ]
  },
  {
   "cell_type": "code",
   "execution_count": 4,
   "id": "ce2ba6d1",
   "metadata": {},
   "outputs": [
    {
     "data": {
      "text/html": [
       "<div>\n",
       "<style scoped>\n",
       "    .dataframe tbody tr th:only-of-type {\n",
       "        vertical-align: middle;\n",
       "    }\n",
       "\n",
       "    .dataframe tbody tr th {\n",
       "        vertical-align: top;\n",
       "    }\n",
       "\n",
       "    .dataframe thead th {\n",
       "        text-align: right;\n",
       "    }\n",
       "</style>\n",
       "<table border=\"1\" class=\"dataframe\">\n",
       "  <thead>\n",
       "    <tr style=\"text-align: right;\">\n",
       "      <th></th>\n",
       "      <th>text</th>\n",
       "      <th>label</th>\n",
       "      <th>age</th>\n",
       "      <th>gender</th>\n",
       "      <th>temperature</th>\n",
       "      <th>blood_pressure</th>\n",
       "      <th>heart_rate</th>\n",
       "    </tr>\n",
       "  </thead>\n",
       "  <tbody>\n",
       "    <tr>\n",
       "      <th>995</th>\n",
       "      <td>Patient has feelings of worthlessness, difficu...</td>\n",
       "      <td>depression</td>\n",
       "      <td>62.0</td>\n",
       "      <td>Male</td>\n",
       "      <td>NaN</td>\n",
       "      <td>113/105</td>\n",
       "      <td>NaN</td>\n",
       "    </tr>\n",
       "    <tr>\n",
       "      <th>996</th>\n",
       "      <td>Patient has vomiting, severe headache, sensiti...</td>\n",
       "      <td>migraine</td>\n",
       "      <td>NaN</td>\n",
       "      <td>Other</td>\n",
       "      <td>99.4</td>\n",
       "      <td>97/80</td>\n",
       "      <td>104.0</td>\n",
       "    </tr>\n",
       "    <tr>\n",
       "      <th>997</th>\n",
       "      <td>Patient has crackles in lungs, shortness of br...</td>\n",
       "      <td>pneumonia</td>\n",
       "      <td>71.0</td>\n",
       "      <td>NaN</td>\n",
       "      <td>NaN</td>\n",
       "      <td>164/87</td>\n",
       "      <td>108.0</td>\n",
       "    </tr>\n",
       "    <tr>\n",
       "      <th>998</th>\n",
       "      <td>Patient has high blood sugar, unexplained weig...</td>\n",
       "      <td>diabetes</td>\n",
       "      <td>34.0</td>\n",
       "      <td>Male</td>\n",
       "      <td>102.5</td>\n",
       "      <td>171/91</td>\n",
       "      <td>73.0</td>\n",
       "    </tr>\n",
       "    <tr>\n",
       "      <th>999</th>\n",
       "      <td>Patient has feelings of worthlessness, insomni...</td>\n",
       "      <td>depression</td>\n",
       "      <td>21.0</td>\n",
       "      <td>Female</td>\n",
       "      <td>98.4</td>\n",
       "      <td>166/84</td>\n",
       "      <td>113.0</td>\n",
       "    </tr>\n",
       "  </tbody>\n",
       "</table>\n",
       "</div>"
      ],
      "text/plain": [
       "                                                  text       label   age  \\\n",
       "995  Patient has feelings of worthlessness, difficu...  depression  62.0   \n",
       "996  Patient has vomiting, severe headache, sensiti...    migraine   NaN   \n",
       "997  Patient has crackles in lungs, shortness of br...   pneumonia  71.0   \n",
       "998  Patient has high blood sugar, unexplained weig...    diabetes  34.0   \n",
       "999  Patient has feelings of worthlessness, insomni...  depression  21.0   \n",
       "\n",
       "     gender  temperature blood_pressure  heart_rate  \n",
       "995    Male          NaN        113/105         NaN  \n",
       "996   Other         99.4          97/80       104.0  \n",
       "997     NaN          NaN         164/87       108.0  \n",
       "998    Male        102.5         171/91        73.0  \n",
       "999  Female         98.4         166/84       113.0  "
      ]
     },
     "execution_count": 4,
     "metadata": {},
     "output_type": "execute_result"
    }
   ],
   "source": [
    "df.tail() #to see the last 10 rows of the dataset"
   ]
  },
  {
   "cell_type": "code",
   "execution_count": 5,
   "id": "9ddfa344",
   "metadata": {},
   "outputs": [
    {
     "data": {
      "text/plain": [
       "(1000, 7)"
      ]
     },
     "execution_count": 5,
     "metadata": {},
     "output_type": "execute_result"
    }
   ],
   "source": [
    "#seeing the unber of rows and column\n",
    "df.shape"
   ]
  },
  {
   "cell_type": "code",
   "execution_count": 6,
   "id": "22a16f68",
   "metadata": {},
   "outputs": [
    {
     "name": "stdout",
     "output_type": "stream",
     "text": [
      "<class 'pandas.core.frame.DataFrame'>\n",
      "RangeIndex: 1000 entries, 0 to 999\n",
      "Data columns (total 7 columns):\n",
      " #   Column          Non-Null Count  Dtype  \n",
      "---  ------          --------------  -----  \n",
      " 0   text            913 non-null    object \n",
      " 1   label           942 non-null    object \n",
      " 2   age             900 non-null    float64\n",
      " 3   gender          893 non-null    object \n",
      " 4   temperature     891 non-null    float64\n",
      " 5   blood_pressure  904 non-null    object \n",
      " 6   heart_rate      877 non-null    float64\n",
      "dtypes: float64(3), object(4)\n",
      "memory usage: 54.8+ KB\n"
     ]
    }
   ],
   "source": [
    "#getting the info\n",
    "df.info()"
   ]
  },
  {
   "cell_type": "code",
   "execution_count": 7,
   "id": "aeac377b",
   "metadata": {},
   "outputs": [
    {
     "data": {
      "text/plain": [
       "Index(['text', 'label', 'age', 'gender', 'temperature', 'blood_pressure',\n",
       "       'heart_rate'],\n",
       "      dtype='object')"
      ]
     },
     "execution_count": 7,
     "metadata": {},
     "output_type": "execute_result"
    }
   ],
   "source": [
    "#see the column\n",
    "df.columns\n"
   ]
  },
  {
   "cell_type": "code",
   "execution_count": 8,
   "id": "c92dc0ac",
   "metadata": {},
   "outputs": [
    {
     "data": {
      "text/html": [
       "<div>\n",
       "<style scoped>\n",
       "    .dataframe tbody tr th:only-of-type {\n",
       "        vertical-align: middle;\n",
       "    }\n",
       "\n",
       "    .dataframe tbody tr th {\n",
       "        vertical-align: top;\n",
       "    }\n",
       "\n",
       "    .dataframe thead th {\n",
       "        text-align: right;\n",
       "    }\n",
       "</style>\n",
       "<table border=\"1\" class=\"dataframe\">\n",
       "  <thead>\n",
       "    <tr style=\"text-align: right;\">\n",
       "      <th></th>\n",
       "      <th>text</th>\n",
       "      <th>label</th>\n",
       "      <th>age</th>\n",
       "      <th>gender</th>\n",
       "      <th>temperature</th>\n",
       "      <th>blood_pressure</th>\n",
       "      <th>heart_rate</th>\n",
       "    </tr>\n",
       "  </thead>\n",
       "  <tbody>\n",
       "    <tr>\n",
       "      <th>0</th>\n",
       "      <td>False</td>\n",
       "      <td>False</td>\n",
       "      <td>False</td>\n",
       "      <td>False</td>\n",
       "      <td>False</td>\n",
       "      <td>False</td>\n",
       "      <td>False</td>\n",
       "    </tr>\n",
       "    <tr>\n",
       "      <th>1</th>\n",
       "      <td>False</td>\n",
       "      <td>False</td>\n",
       "      <td>False</td>\n",
       "      <td>False</td>\n",
       "      <td>False</td>\n",
       "      <td>False</td>\n",
       "      <td>False</td>\n",
       "    </tr>\n",
       "    <tr>\n",
       "      <th>2</th>\n",
       "      <td>False</td>\n",
       "      <td>True</td>\n",
       "      <td>False</td>\n",
       "      <td>True</td>\n",
       "      <td>False</td>\n",
       "      <td>False</td>\n",
       "      <td>False</td>\n",
       "    </tr>\n",
       "    <tr>\n",
       "      <th>3</th>\n",
       "      <td>False</td>\n",
       "      <td>False</td>\n",
       "      <td>False</td>\n",
       "      <td>False</td>\n",
       "      <td>False</td>\n",
       "      <td>False</td>\n",
       "      <td>True</td>\n",
       "    </tr>\n",
       "    <tr>\n",
       "      <th>4</th>\n",
       "      <td>False</td>\n",
       "      <td>False</td>\n",
       "      <td>False</td>\n",
       "      <td>False</td>\n",
       "      <td>False</td>\n",
       "      <td>False</td>\n",
       "      <td>False</td>\n",
       "    </tr>\n",
       "    <tr>\n",
       "      <th>...</th>\n",
       "      <td>...</td>\n",
       "      <td>...</td>\n",
       "      <td>...</td>\n",
       "      <td>...</td>\n",
       "      <td>...</td>\n",
       "      <td>...</td>\n",
       "      <td>...</td>\n",
       "    </tr>\n",
       "    <tr>\n",
       "      <th>995</th>\n",
       "      <td>False</td>\n",
       "      <td>False</td>\n",
       "      <td>False</td>\n",
       "      <td>False</td>\n",
       "      <td>True</td>\n",
       "      <td>False</td>\n",
       "      <td>True</td>\n",
       "    </tr>\n",
       "    <tr>\n",
       "      <th>996</th>\n",
       "      <td>False</td>\n",
       "      <td>False</td>\n",
       "      <td>True</td>\n",
       "      <td>False</td>\n",
       "      <td>False</td>\n",
       "      <td>False</td>\n",
       "      <td>False</td>\n",
       "    </tr>\n",
       "    <tr>\n",
       "      <th>997</th>\n",
       "      <td>False</td>\n",
       "      <td>False</td>\n",
       "      <td>False</td>\n",
       "      <td>True</td>\n",
       "      <td>True</td>\n",
       "      <td>False</td>\n",
       "      <td>False</td>\n",
       "    </tr>\n",
       "    <tr>\n",
       "      <th>998</th>\n",
       "      <td>False</td>\n",
       "      <td>False</td>\n",
       "      <td>False</td>\n",
       "      <td>False</td>\n",
       "      <td>False</td>\n",
       "      <td>False</td>\n",
       "      <td>False</td>\n",
       "    </tr>\n",
       "    <tr>\n",
       "      <th>999</th>\n",
       "      <td>False</td>\n",
       "      <td>False</td>\n",
       "      <td>False</td>\n",
       "      <td>False</td>\n",
       "      <td>False</td>\n",
       "      <td>False</td>\n",
       "      <td>False</td>\n",
       "    </tr>\n",
       "  </tbody>\n",
       "</table>\n",
       "<p>1000 rows × 7 columns</p>\n",
       "</div>"
      ],
      "text/plain": [
       "      text  label    age  gender  temperature  blood_pressure  heart_rate\n",
       "0    False  False  False   False        False           False       False\n",
       "1    False  False  False   False        False           False       False\n",
       "2    False   True  False    True        False           False       False\n",
       "3    False  False  False   False        False           False        True\n",
       "4    False  False  False   False        False           False       False\n",
       "..     ...    ...    ...     ...          ...             ...         ...\n",
       "995  False  False  False   False         True           False        True\n",
       "996  False  False   True   False        False           False       False\n",
       "997  False  False  False    True         True           False       False\n",
       "998  False  False  False   False        False           False       False\n",
       "999  False  False  False   False        False           False       False\n",
       "\n",
       "[1000 rows x 7 columns]"
      ]
     },
     "execution_count": 8,
     "metadata": {},
     "output_type": "execute_result"
    }
   ],
   "source": [
    "#seeing the null values \n",
    "df.isnull()"
   ]
  },
  {
   "cell_type": "code",
   "execution_count": 9,
   "id": "fd7bbacf",
   "metadata": {},
   "outputs": [
    {
     "data": {
      "text/html": [
       "<div>\n",
       "<style scoped>\n",
       "    .dataframe tbody tr th:only-of-type {\n",
       "        vertical-align: middle;\n",
       "    }\n",
       "\n",
       "    .dataframe tbody tr th {\n",
       "        vertical-align: top;\n",
       "    }\n",
       "\n",
       "    .dataframe thead th {\n",
       "        text-align: right;\n",
       "    }\n",
       "</style>\n",
       "<table border=\"1\" class=\"dataframe\">\n",
       "  <thead>\n",
       "    <tr style=\"text-align: right;\">\n",
       "      <th></th>\n",
       "      <th>age</th>\n",
       "      <th>temperature</th>\n",
       "      <th>heart_rate</th>\n",
       "    </tr>\n",
       "  </thead>\n",
       "  <tbody>\n",
       "    <tr>\n",
       "      <th>count</th>\n",
       "      <td>900.000000</td>\n",
       "      <td>891.000000</td>\n",
       "      <td>877.000000</td>\n",
       "    </tr>\n",
       "    <tr>\n",
       "      <th>mean</th>\n",
       "      <td>54.247778</td>\n",
       "      <td>100.530079</td>\n",
       "      <td>90.166477</td>\n",
       "    </tr>\n",
       "    <tr>\n",
       "      <th>std</th>\n",
       "      <td>21.340237</td>\n",
       "      <td>1.992670</td>\n",
       "      <td>18.289956</td>\n",
       "    </tr>\n",
       "    <tr>\n",
       "      <th>min</th>\n",
       "      <td>18.000000</td>\n",
       "      <td>97.000000</td>\n",
       "      <td>60.000000</td>\n",
       "    </tr>\n",
       "    <tr>\n",
       "      <th>25%</th>\n",
       "      <td>35.000000</td>\n",
       "      <td>98.900000</td>\n",
       "      <td>74.000000</td>\n",
       "    </tr>\n",
       "    <tr>\n",
       "      <th>50%</th>\n",
       "      <td>54.000000</td>\n",
       "      <td>100.500000</td>\n",
       "      <td>91.000000</td>\n",
       "    </tr>\n",
       "    <tr>\n",
       "      <th>75%</th>\n",
       "      <td>73.000000</td>\n",
       "      <td>102.100000</td>\n",
       "      <td>106.000000</td>\n",
       "    </tr>\n",
       "    <tr>\n",
       "      <th>max</th>\n",
       "      <td>90.000000</td>\n",
       "      <td>104.000000</td>\n",
       "      <td>120.000000</td>\n",
       "    </tr>\n",
       "  </tbody>\n",
       "</table>\n",
       "</div>"
      ],
      "text/plain": [
       "              age  temperature  heart_rate\n",
       "count  900.000000   891.000000  877.000000\n",
       "mean    54.247778   100.530079   90.166477\n",
       "std     21.340237     1.992670   18.289956\n",
       "min     18.000000    97.000000   60.000000\n",
       "25%     35.000000    98.900000   74.000000\n",
       "50%     54.000000   100.500000   91.000000\n",
       "75%     73.000000   102.100000  106.000000\n",
       "max     90.000000   104.000000  120.000000"
      ]
     },
     "execution_count": 9,
     "metadata": {},
     "output_type": "execute_result"
    }
   ],
   "source": [
    "#get statistical summary\n",
    "df.describe()"
   ]
  },
  {
   "cell_type": "code",
   "execution_count": 10,
   "id": "032ee1ba",
   "metadata": {},
   "outputs": [
    {
     "data": {
      "text/plain": [
       "text               87\n",
       "label              58\n",
       "age               100\n",
       "gender            107\n",
       "temperature       109\n",
       "blood_pressure     96\n",
       "heart_rate        123\n",
       "dtype: int64"
      ]
     },
     "execution_count": 10,
     "metadata": {},
     "output_type": "execute_result"
    }
   ],
   "source": [
    "df.isnull().sum()"
   ]
  },
  {
   "cell_type": "code",
   "execution_count": 11,
   "id": "d2f53725",
   "metadata": {},
   "outputs": [],
   "source": [
    "mode_value = df['text'].mode()\n",
    "if not mode_value.empty:\n",
    "    mode_value = mode_value[0]  # Extract the first mode value\n",
    "else:\n",
    "    mode_value = \"Unknown\"  # Fallback in case the column is empty\n"
   ]
  },
  {
   "cell_type": "code",
   "execution_count": 12,
   "id": "4ff25eea",
   "metadata": {},
   "outputs": [
    {
     "name": "stdout",
     "output_type": "stream",
     "text": [
      "0                        Patient has swelling, fatigue\n",
      "1    Patient has fatigue, dizziness, chest pain, ir...\n",
      "2    Patient has shortness of breath, chest pain, i...\n",
      "3      Patient has dry cough, loss of taste, tiredness\n",
      "4               Patient has fatigue, runny nose, cough\n",
      "Name: text, dtype: object\n"
     ]
    }
   ],
   "source": [
    "mode_value = df['text'].mode()[0]  # Get the most frequent value\n",
    "df['text'] = df['text'].fillna(mode_value)\n",
    "\n",
    "print(df['text'].head())"
   ]
  },
  {
   "cell_type": "code",
   "execution_count": 13,
   "id": "7ebb3c30",
   "metadata": {},
   "outputs": [
    {
     "name": "stdout",
     "output_type": "stream",
     "text": [
      "                                                text          label   age  \\\n",
      "0                      Patient has swelling, fatigue      arthritis  79.0   \n",
      "1  Patient has fatigue, dizziness, chest pain, ir...  heart_disease  50.0   \n",
      "2  Patient has shortness of breath, chest pain, i...            NaN  27.0   \n",
      "3    Patient has dry cough, loss of taste, tiredness       covid-19  71.0   \n",
      "4             Patient has fatigue, runny nose, cough            flu  79.0   \n",
      "\n",
      "   gender  temperature blood_pressure  heart_rate  \n",
      "0    Male         98.8         150/77        86.0  \n",
      "1  Female        102.9        125/113        90.0  \n",
      "2     NaN        101.5          97/97        95.0  \n",
      "3  Female        100.8         152/95         NaN  \n",
      "4   Other        102.0         138/89        91.0  \n"
     ]
    }
   ],
   "source": [
    "df.reset_index(drop=True, inplace=True)\n",
    "print(df.head())\n"
   ]
  },
  {
   "cell_type": "code",
   "execution_count": 14,
   "id": "bb5c3537",
   "metadata": {},
   "outputs": [],
   "source": [
    "mode_value = df['label'].mode()\n",
    "if not mode_value.empty:\n",
    "    mode_value = mode_value[0]  # Extract the first mode value\n",
    "else:\n",
    "    mode_value = \"Unknown\"  # Fallback in case the column is empty\n"
   ]
  },
  {
   "cell_type": "code",
   "execution_count": 15,
   "id": "fea96292",
   "metadata": {},
   "outputs": [
    {
     "name": "stdout",
     "output_type": "stream",
     "text": [
      "0                        Patient has swelling, fatigue\n",
      "1    Patient has fatigue, dizziness, chest pain, ir...\n",
      "2    Patient has shortness of breath, chest pain, i...\n",
      "3      Patient has dry cough, loss of taste, tiredness\n",
      "4               Patient has fatigue, runny nose, cough\n",
      "Name: text, dtype: object\n"
     ]
    }
   ],
   "source": [
    "mode_value = df['label'].mode()[0]  # Get the most frequent value\n",
    "df['label'] = df['label'].fillna(mode_value)\n",
    "\n",
    "print(df['text'].head())"
   ]
  },
  {
   "cell_type": "code",
   "execution_count": 16,
   "id": "f56ac857",
   "metadata": {},
   "outputs": [],
   "source": [
    "mode_value = df['gender'].mode()\n",
    "if not mode_value.empty:\n",
    "    mode_value = mode_value[0]  # Extract the first mode value\n",
    "else:\n",
    "    mode_value = \"Unknown\"  # Fallback in case the column is empty\n",
    "    \n"
   ]
  },
  {
   "cell_type": "code",
   "execution_count": 17,
   "id": "11f0675a",
   "metadata": {},
   "outputs": [
    {
     "name": "stdout",
     "output_type": "stream",
     "text": [
      "0      Male\n",
      "1    Female\n",
      "2     Other\n",
      "3    Female\n",
      "4     Other\n",
      "Name: gender, dtype: object\n"
     ]
    }
   ],
   "source": [
    "mode_value = df['gender'].mode()[0]  # Get the most frequent value\n",
    "df['gender'] = df['gender'].fillna(mode_value)\n",
    "\n",
    "print(df['gender'].head())"
   ]
  },
  {
   "cell_type": "code",
   "execution_count": 18,
   "id": "51b5f237",
   "metadata": {},
   "outputs": [],
   "source": [
    "mode_value = df['blood_pressure'].mode()\n",
    "if not mode_value.empty:\n",
    "    mode_value = mode_value[0]  # Extract the first mode value\n",
    "else:\n",
    "    mode_value = \"Unknown\"  # Fallback in case the column is empty\n",
    "    "
   ]
  },
  {
   "cell_type": "code",
   "execution_count": 19,
   "id": "ad613961",
   "metadata": {},
   "outputs": [
    {
     "name": "stdout",
     "output_type": "stream",
     "text": [
      "0     150/77\n",
      "1    125/113\n",
      "2      97/97\n",
      "3     152/95\n",
      "4     138/89\n",
      "Name: blood_pressure, dtype: object\n"
     ]
    }
   ],
   "source": [
    "mode_value = df['blood_pressure'].mode()[0]  # Get the most frequent value\n",
    "df['blood_pressure'] = df['blood_pressure'].fillna(mode_value)\n",
    "\n",
    "print(df['blood_pressure'].head())"
   ]
  },
  {
   "cell_type": "code",
   "execution_count": 20,
   "id": "c99364a8",
   "metadata": {},
   "outputs": [],
   "source": [
    "mode_value = df['temperature'].mode()\n",
    "if not mode_value.empty:\n",
    "    mode_value = mode_value[0]  # Extract the first mode value\n",
    "else:\n",
    "    mode_value = \"Unknown\"  # Fallback in case the column is empty\n",
    "    "
   ]
  },
  {
   "cell_type": "code",
   "execution_count": 21,
   "id": "de95b811",
   "metadata": {},
   "outputs": [
    {
     "name": "stdout",
     "output_type": "stream",
     "text": [
      "0     98.8\n",
      "1    102.9\n",
      "2    101.5\n",
      "3    100.8\n",
      "4    102.0\n",
      "Name: temperature, dtype: float64\n"
     ]
    }
   ],
   "source": [
    "mode_value = df['temperature'].mode()[0]  # Get the most frequent value\n",
    "df['temperature'] = df['temperature'].fillna(mode_value)\n",
    "\n",
    "print(df['temperature'].head())"
   ]
  },
  {
   "cell_type": "code",
   "execution_count": 22,
   "id": "60f45db3",
   "metadata": {},
   "outputs": [],
   "source": [
    "mode_value = df['heart_rate'].mode()\n",
    "if not mode_value.empty:\n",
    "    mode_value = mode_value[0]  # Extract the first mode value\n",
    "else:\n",
    "    mode_value = \"Unknown\"  # Fallback in case the column is empty\n",
    "    "
   ]
  },
  {
   "cell_type": "code",
   "execution_count": 23,
   "id": "a7b9dc90",
   "metadata": {},
   "outputs": [
    {
     "name": "stdout",
     "output_type": "stream",
     "text": [
      "0    86.0\n",
      "1    90.0\n",
      "2    95.0\n",
      "3    60.0\n",
      "4    91.0\n",
      "Name: heart_rate, dtype: float64\n"
     ]
    }
   ],
   "source": [
    "mode_value = df['heart_rate'].mode()[0]  # Get the most frequent value\n",
    "df['heart_rate'] = df['heart_rate'].fillna(mode_value)\n",
    "\n",
    "print(df['heart_rate'].head())"
   ]
  },
  {
   "cell_type": "code",
   "execution_count": 24,
   "id": "f104f3a5",
   "metadata": {},
   "outputs": [],
   "source": [
    "mode_value = df['age'].mode()\n",
    "if not mode_value.empty:\n",
    "    mode_value = mode_value[0]  # Extract the first mode value\n",
    "else:\n",
    "    mode_value = \"Unknown\"  # Fallback in case the column is empty\n",
    "    "
   ]
  },
  {
   "cell_type": "code",
   "execution_count": 25,
   "id": "47bb10c9",
   "metadata": {},
   "outputs": [
    {
     "name": "stdout",
     "output_type": "stream",
     "text": [
      "0    79.0\n",
      "1    50.0\n",
      "2    27.0\n",
      "3    71.0\n",
      "4    79.0\n",
      "Name: age, dtype: float64\n"
     ]
    }
   ],
   "source": [
    "mode_value = df['age'].mode()[0]  # Get the most frequent value\n",
    "df['age'] = df['age'].fillna(mode_value)\n",
    "\n",
    "print(df['age'].head())"
   ]
  },
  {
   "cell_type": "code",
   "execution_count": 26,
   "id": "cb33c931",
   "metadata": {},
   "outputs": [
    {
     "name": "stdout",
     "output_type": "stream",
     "text": [
      "The updated dataset has been saved as 'updated_patient_records_1000.csv' in the current directory.\n"
     ]
    }
   ],
   "source": [
    "# Save the DataFrame to a CSV file\n",
    "df.to_csv(\"updated_dataset.csv\", index=False)\n",
    "\n",
    "# Inform the user where the file is saved\n",
    "print(\"The updated dataset has been saved as 'updated_patient_records_1000.csv' in the current directory.\")\n"
   ]
  },
  {
   "cell_type": "code",
   "execution_count": 27,
   "id": "6ca5789b",
   "metadata": {},
   "outputs": [],
   "source": [
    "updated_patient_records = df.copy()"
   ]
  },
  {
   "cell_type": "code",
   "execution_count": 28,
   "id": "9720b6af",
   "metadata": {},
   "outputs": [
    {
     "data": {
      "text/plain": [
       "text              0\n",
       "label             0\n",
       "age               0\n",
       "gender            0\n",
       "temperature       0\n",
       "blood_pressure    0\n",
       "heart_rate        0\n",
       "dtype: int64"
      ]
     },
     "execution_count": 28,
     "metadata": {},
     "output_type": "execute_result"
    }
   ],
   "source": [
    "df.isnull().sum()"
   ]
  },
  {
   "cell_type": "code",
   "execution_count": 29,
   "id": "42d91c68",
   "metadata": {},
   "outputs": [],
   "source": [
    "from sklearn.preprocessing import LabelEncoder"
   ]
  },
  {
   "cell_type": "code",
   "execution_count": 30,
   "id": "782ec83f",
   "metadata": {},
   "outputs": [],
   "source": [
    "le = LabelEncoder()\n",
    "df[\"label_encoded\"] = le.fit_transform(df[\"label\"])"
   ]
  },
  {
   "cell_type": "code",
   "execution_count": 31,
   "id": "5e5eea74",
   "metadata": {},
   "outputs": [],
   "source": [
    "label_map = dict(zip(le.classes_, le.transform(le.classes_)))"
   ]
  },
  {
   "cell_type": "code",
   "execution_count": 32,
   "id": "9ecedf14",
   "metadata": {},
   "outputs": [],
   "source": [
    "from sklearn.model_selection import train_test_split"
   ]
  },
  {
   "cell_type": "code",
   "execution_count": 33,
   "id": "1dc83b65",
   "metadata": {},
   "outputs": [],
   "source": [
    "train_texts, val_texts, train_labels, val_labels = train_test_split(\n",
    "    df[\"text\"], df[\"label_encoded\"], test_size=0.2, random_state=42\n",
    ")"
   ]
  },
  {
   "cell_type": "code",
   "execution_count": 34,
   "id": "1a282be5",
   "metadata": {},
   "outputs": [],
   "source": [
    "from transformers import AutoTokenizer\n",
    "tokenizer = AutoTokenizer.from_pretrained(\"bert-base-uncased\")\n"
   ]
  },
  {
   "cell_type": "code",
   "execution_count": 35,
   "id": "ef2044b0",
   "metadata": {},
   "outputs": [],
   "source": [
    "train_encodings = tokenizer(list(train_texts), truncation=True, padding=True)\n",
    "val_encodings = tokenizer(list(val_texts), truncation=True, padding=True)"
   ]
  },
  {
   "cell_type": "code",
   "execution_count": 36,
   "id": "a036edff",
   "metadata": {},
   "outputs": [],
   "source": [
    "import torch\n",
    "\n",
    "class PatientDataset(torch.utils.data.Dataset):\n",
    "    def __init__(self, encodings, labels):\n",
    "        self.encodings = encodings\n",
    "        self.labels = labels\n",
    "    def __getitem__(self, idx):\n",
    "        item = {key: torch.tensor(val[idx]) for key, val in self.encodings.items()}\n",
    "        item[\"labels\"] = torch.tensor(self.labels[idx])\n",
    "        return item\n",
    "    def __len__(self):\n",
    "        return len(self.labels)\n",
    "\n",
    "train_dataset = PatientDataset(train_encodings, list(train_labels))\n",
    "val_dataset = PatientDataset(val_encodings, list(val_labels))\n"
   ]
  },
  {
   "cell_type": "code",
   "execution_count": 37,
   "id": "3e4d868d",
   "metadata": {},
   "outputs": [],
   "source": [
    "from transformers import AutoModelForSequenceClassification"
   ]
  },
  {
   "cell_type": "code",
   "execution_count": 38,
   "id": "596e74f8",
   "metadata": {},
   "outputs": [
    {
     "name": "stderr",
     "output_type": "stream",
     "text": [
      "Some weights of BertForSequenceClassification were not initialized from the model checkpoint at bert-base-uncased and are newly initialized: ['classifier.bias', 'classifier.weight']\n",
      "You should probably TRAIN this model on a down-stream task to be able to use it for predictions and inference.\n"
     ]
    }
   ],
   "source": [
    "model = AutoModelForSequenceClassification.from_pretrained(\n",
    "    \"bert-base-uncased\", num_labels=len(le.classes_)\n",
    ")\n"
   ]
  },
  {
   "cell_type": "code",
   "execution_count": 39,
   "id": "1686d2b2",
   "metadata": {},
   "outputs": [],
   "source": [
    "from transformers import TrainingArguments\n",
    "\n",
    "training_args = TrainingArguments(\n",
    "    output_dir=\"./results\",\n",
    "    do_eval=True, \n",
    "    per_device_train_batch_size=8,\n",
    "    per_device_eval_batch_size=8,\n",
    "    num_train_epochs=3,\n",
    "    weight_decay=0.01,\n",
    "    logging_dir=\"./logs\",\n",
    "    logging_steps=10,\n",
    ")\n"
   ]
  },
  {
   "cell_type": "code",
   "execution_count": 40,
   "id": "7ce900ab",
   "metadata": {},
   "outputs": [
    {
     "data": {
      "text/html": [
       "\n",
       "    <div>\n",
       "      \n",
       "      <progress value='300' max='300' style='width:300px; height:20px; vertical-align: middle;'></progress>\n",
       "      [300/300 06:04, Epoch 3/3]\n",
       "    </div>\n",
       "    <table border=\"1\" class=\"dataframe\">\n",
       "  <thead>\n",
       " <tr style=\"text-align: left;\">\n",
       "      <th>Step</th>\n",
       "      <th>Training Loss</th>\n",
       "    </tr>\n",
       "  </thead>\n",
       "  <tbody>\n",
       "    <tr>\n",
       "      <td>10</td>\n",
       "      <td>2.412400</td>\n",
       "    </tr>\n",
       "    <tr>\n",
       "      <td>20</td>\n",
       "      <td>2.245100</td>\n",
       "    </tr>\n",
       "    <tr>\n",
       "      <td>30</td>\n",
       "      <td>2.087300</td>\n",
       "    </tr>\n",
       "    <tr>\n",
       "      <td>40</td>\n",
       "      <td>1.899500</td>\n",
       "    </tr>\n",
       "    <tr>\n",
       "      <td>50</td>\n",
       "      <td>1.462900</td>\n",
       "    </tr>\n",
       "    <tr>\n",
       "      <td>60</td>\n",
       "      <td>1.431300</td>\n",
       "    </tr>\n",
       "    <tr>\n",
       "      <td>70</td>\n",
       "      <td>1.175000</td>\n",
       "    </tr>\n",
       "    <tr>\n",
       "      <td>80</td>\n",
       "      <td>1.016200</td>\n",
       "    </tr>\n",
       "    <tr>\n",
       "      <td>90</td>\n",
       "      <td>0.968100</td>\n",
       "    </tr>\n",
       "    <tr>\n",
       "      <td>100</td>\n",
       "      <td>0.727100</td>\n",
       "    </tr>\n",
       "    <tr>\n",
       "      <td>110</td>\n",
       "      <td>0.491300</td>\n",
       "    </tr>\n",
       "    <tr>\n",
       "      <td>120</td>\n",
       "      <td>0.567600</td>\n",
       "    </tr>\n",
       "    <tr>\n",
       "      <td>130</td>\n",
       "      <td>0.505400</td>\n",
       "    </tr>\n",
       "    <tr>\n",
       "      <td>140</td>\n",
       "      <td>0.461200</td>\n",
       "    </tr>\n",
       "    <tr>\n",
       "      <td>150</td>\n",
       "      <td>0.740500</td>\n",
       "    </tr>\n",
       "    <tr>\n",
       "      <td>160</td>\n",
       "      <td>0.591300</td>\n",
       "    </tr>\n",
       "    <tr>\n",
       "      <td>170</td>\n",
       "      <td>0.544000</td>\n",
       "    </tr>\n",
       "    <tr>\n",
       "      <td>180</td>\n",
       "      <td>0.591100</td>\n",
       "    </tr>\n",
       "    <tr>\n",
       "      <td>190</td>\n",
       "      <td>0.527300</td>\n",
       "    </tr>\n",
       "    <tr>\n",
       "      <td>200</td>\n",
       "      <td>0.558000</td>\n",
       "    </tr>\n",
       "    <tr>\n",
       "      <td>210</td>\n",
       "      <td>0.439400</td>\n",
       "    </tr>\n",
       "    <tr>\n",
       "      <td>220</td>\n",
       "      <td>0.497400</td>\n",
       "    </tr>\n",
       "    <tr>\n",
       "      <td>230</td>\n",
       "      <td>0.370100</td>\n",
       "    </tr>\n",
       "    <tr>\n",
       "      <td>240</td>\n",
       "      <td>0.398200</td>\n",
       "    </tr>\n",
       "    <tr>\n",
       "      <td>250</td>\n",
       "      <td>0.505700</td>\n",
       "    </tr>\n",
       "    <tr>\n",
       "      <td>260</td>\n",
       "      <td>0.577600</td>\n",
       "    </tr>\n",
       "    <tr>\n",
       "      <td>270</td>\n",
       "      <td>0.542200</td>\n",
       "    </tr>\n",
       "    <tr>\n",
       "      <td>280</td>\n",
       "      <td>0.525800</td>\n",
       "    </tr>\n",
       "    <tr>\n",
       "      <td>290</td>\n",
       "      <td>0.368000</td>\n",
       "    </tr>\n",
       "    <tr>\n",
       "      <td>300</td>\n",
       "      <td>0.415200</td>\n",
       "    </tr>\n",
       "  </tbody>\n",
       "</table><p>"
      ],
      "text/plain": [
       "<IPython.core.display.HTML object>"
      ]
     },
     "metadata": {},
     "output_type": "display_data"
    },
    {
     "data": {
      "text/plain": [
       "TrainOutput(global_step=300, training_loss=0.8547341744105021, metrics={'train_runtime': 366.2082, 'train_samples_per_second': 6.554, 'train_steps_per_second': 0.819, 'total_flos': 32068963180800.0, 'train_loss': 0.8547341744105021, 'epoch': 3.0})"
      ]
     },
     "execution_count": 40,
     "metadata": {},
     "output_type": "execute_result"
    }
   ],
   "source": [
    "from transformers import Trainer\n",
    "trainer = Trainer(\n",
    "    model=model,\n",
    "    args=training_args,\n",
    "    train_dataset=train_dataset,\n",
    "    eval_dataset=val_dataset,\n",
    ")\n",
    "\n",
    "trainer.train()\n"
   ]
  },
  {
   "cell_type": "code",
   "execution_count": 41,
   "id": "cbccbfb5",
   "metadata": {},
   "outputs": [
    {
     "data": {
      "text/html": [],
      "text/plain": [
       "<IPython.core.display.HTML object>"
      ]
     },
     "metadata": {},
     "output_type": "display_data"
    },
    {
     "name": "stdout",
     "output_type": "stream",
     "text": [
      "               precision    recall  f1-score   support\n",
      "\n",
      "    arthritis       0.93      0.88      0.90        16\n",
      "       asthma       0.90      0.90      0.90        21\n",
      "     covid-19       0.81      0.72      0.76        18\n",
      "   depression       1.00      0.62      0.77        37\n",
      "     diabetes       0.85      0.85      0.85        13\n",
      "          flu       0.40      1.00      0.57        14\n",
      "heart_disease       1.00      0.88      0.93        16\n",
      " hypertension       0.77      0.77      0.77        13\n",
      "     migraine       0.93      0.96      0.94        26\n",
      "    pneumonia       0.96      0.85      0.90        26\n",
      "\n",
      "     accuracy                           0.82       200\n",
      "    macro avg       0.85      0.84      0.83       200\n",
      " weighted avg       0.89      0.82      0.84       200\n",
      "\n"
     ]
    }
   ],
   "source": [
    "preds = trainer.predict(val_dataset)\n",
    "predicted_classes = preds.predictions.argmax(axis=1)\n",
    "\n",
    "from sklearn.metrics import classification_report\n",
    "print(classification_report(val_labels, predicted_classes, target_names=le.classes_))\n"
   ]
  },
  {
   "cell_type": "code",
   "execution_count": 42,
   "id": "6a244d1e",
   "metadata": {},
   "outputs": [
    {
     "data": {
      "text/plain": [
       "('disease_bert_model\\\\tokenizer_config.json',\n",
       " 'disease_bert_model\\\\special_tokens_map.json',\n",
       " 'disease_bert_model\\\\vocab.txt',\n",
       " 'disease_bert_model\\\\added_tokens.json',\n",
       " 'disease_bert_model\\\\tokenizer.json')"
      ]
     },
     "execution_count": 42,
     "metadata": {},
     "output_type": "execute_result"
    }
   ],
   "source": [
    "model.save_pretrained(\"disease_bert_model\")\n",
    "tokenizer.save_pretrained(\"disease_bert_model\")\n"
   ]
  }
 ],
 "metadata": {
  "kernelspec": {
   "display_name": "base",
   "language": "python",
   "name": "python3"
  },
  "language_info": {
   "codemirror_mode": {
    "name": "ipython",
    "version": 3
   },
   "file_extension": ".py",
   "mimetype": "text/x-python",
   "name": "python",
   "nbconvert_exporter": "python",
   "pygments_lexer": "ipython3",
   "version": "3.12.7"
  }
 },
 "nbformat": 4,
 "nbformat_minor": 5
}
